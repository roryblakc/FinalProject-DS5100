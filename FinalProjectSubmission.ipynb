{
 "cells": [
  {
   "cell_type": "markdown",
   "metadata": {},
   "source": [
    "# Metadata\n",
    "\n",
    "* Title:           **Final Project Report**\n",
    "* Class:           DS 5100\n",
    "* Date:            15 July 2022\n",
    "* Student Name:    Rory Black\n",
    "* Student Net ID:  qmn9tb\n",
    "* This URL:        https://github.com/roryblakc/FinalProject-DS5100/blob/main/FinalProjectSubmission.ipynb\n",
    "* GitHub Repo URL: https://github.com/roryblakc/FinalProject-DS5100"
   ]
  },
  {
   "cell_type": "markdown",
   "metadata": {},
   "source": [
    "# The Monte Carlo Module"
   ]
  },
  {
   "cell_type": "code",
   "execution_count": 1,
   "metadata": {},
   "outputs": [],
   "source": [
    "import numpy as np\n",
    "import pandas as pd\n",
    "import random\n",
    "\n",
    "class Die:\n",
    "    '''Create a Die object to then be able to change the weight of any faces and simulate rolling the die. Object is initialized with the input of an array of faces.'''\n",
    "    def __init__(self, faces):\n",
    "        '''Create a Die object with input parameter of an array of faces. Weights default to 1 for every face. No return value.'''\n",
    "        self.faces = faces\n",
    "        self.weights = np.ones(len(faces))\n",
    "        self.die_df = pd.DataFrame({\n",
    "            'face': self.faces,\n",
    "            'weight': self.weights})\n",
    "        \n",
    "    def change_weight(self, face, weight):\n",
    "        '''Allows the user to change the weight for any face of a Die object. Input parameters are a face and changed weight. Returns nothing.'''\n",
    "        if face in self.faces:\n",
    "            # index to weight for index of face\n",
    "            # change weight\n",
    "            if type(weight) == float or type(weight) == int:\n",
    "                weight = float(weight)\n",
    "                index = np.where(self.faces == face)\n",
    "                self.weights[index] = weight\n",
    "                # update df with new weight\n",
    "                self.die_df['weight'] = self.weights \n",
    "            else:\n",
    "                return(\"The weight needs to entered as a number.\")\n",
    "        else:\n",
    "            return(\"This is not a valid face.\")\n",
    "        \n",
    "    def roll(self, num_rolls=1):\n",
    "        '''Allows user to simulate rolling a single die. Input parameter is how many rolls. Returns the list of faces produced on all rolls.'''\n",
    "        rolls_list = random.choices(self.faces, weights=self.weights, k=num_rolls)\n",
    "        return rolls_list\n",
    "    \n",
    "    def show_current(self):\n",
    "        '''Returns a dataframe with the current faces and corresponding weights of a Die object.'''\n",
    "        return self.die_df\n",
    "    \n",
    "class Game:\n",
    "    '''Create a Game object from a list of one or more Die objects of the same kind to simulate rolling multiple dice.'''\n",
    "    # all die in die list must have same faces\n",
    "    def __init__(self, die_list):\n",
    "        '''Create a Game object with input parameter of a list of Die objects of the same kind. No return value.'''\n",
    "        self.die_list = die_list\n",
    "    \n",
    "    def play(self, num_rolls):\n",
    "        '''Allows user to simulate rolling multiple dice at once. Input parameter is the number of rolls as an int. No return value.'''\n",
    "        self._play_df = pd.DataFrame()\n",
    "        # iterate through die and append rolls to df\n",
    "        for die in self.die_list:\n",
    "            die_rolls = die.roll(num_rolls)\n",
    "            die_rolls = pd.Series(die_rolls)\n",
    "            self._play_df = pd.concat([self._play_df, die_rolls], axis=1)\n",
    "        # name columns with die number\n",
    "        dice_number = range(1, len(self.die_list)+1)\n",
    "        # list to rename columns in df with \"Die __\" format\n",
    "        self.column_names = [\"Die \" + str(d) for d in dice_number]\n",
    "        self._play_df.columns = self.column_names\n",
    "        # name rows with roll number\n",
    "        roll_number = range(1, num_rolls+1)\n",
    "        # loop to rename rows in df with \"Roll __\" format\n",
    "        self.row_names = [\"Roll # \" + str(r) for r in roll_number]\n",
    "        self._play_df.index = self.row_names\n",
    "    \n",
    "    def show_play(self, form='wide'):\n",
    "        '''Allows user to see results of the .play() method as a dataframe. Input parameter is either \"wide\" or \"narrow\". Returns a dataframe in the correct format.'''\n",
    "        # exception if user does not pass wide or narrow\n",
    "        form = form.lower()\n",
    "        try:\n",
    "            if form == 'wide':\n",
    "                return(self._play_df)\n",
    "            elif form == 'narrow':\n",
    "                narrow_df = self._play_df.stack()\n",
    "                narrow_df = pd.DataFrame(narrow_df)\n",
    "                narrow_df.columns = ['Face Returned']\n",
    "                return(narrow_df)\n",
    "        except:\n",
    "            print('Must specify either \"wide\" or \"narrow\".')\n",
    "        \n",
    "class Analyzer:\n",
    "    '''Create an Analyzer object to reveal information about a Game object. Object is initialized with the input of an existing Game object.'''\n",
    "    def __init__(self, game):\n",
    "        '''Create an Analyzer obejct with the input of an already existing Game object. No return value.'''\n",
    "        self.game = game\n",
    "        self.face_dtype = type(self.game.die_list[0].faces[0])\n",
    "        \n",
    "    def jackpot(self):\n",
    "        '''Allows user to see how many rolls resulted in all die returning the same face. The number of jackpots among all rolls is returned as an integer.'''\n",
    "        # returns number of jackpots\n",
    "        self.num_jackpots = 0\n",
    "        # empty df for jackpots by roll\n",
    "        self.jackpot_df = pd.DataFrame(index = self.game.row_names, columns = ['Jackpot'])\n",
    "        # if only one value returned for all dice same roll, jackpot\n",
    "        for i in range(len(self.game._play_df.index)):\n",
    "            if (len(self.game._play_df.iloc[i].value_counts()) == 1):\n",
    "                # add true to df for roll #\n",
    "                self.jackpot_df.iat[i, 0] = True\n",
    "                # increment num_jackpots by 1\n",
    "                self.num_jackpots += 1\n",
    "            else:\n",
    "                # add false to df for roll #\n",
    "                self.jackpot_df.iat[i, 0] = False\n",
    "        return self.num_jackpots\n",
    "    \n",
    "    def combo(self):\n",
    "        '''Allows user to view the counts for each combination of faces returned each roll. No return value, but .combo_df is an accessible attribute of any instance.'''\n",
    "        # make multi-index df of combo counts\n",
    "        self.combo_df = pd.DataFrame(self.game._play_df.groupby(self.game.column_names).size())\n",
    "        self.combo_df.columns = ['Counts']\n",
    "        \n",
    "    def face_counts_per_roll(self):\n",
    "        '''Allows user to view the counts of which faces were returned with each roll. No return value, but .face_counts_df is an accessible attribute of any instance.'''\n",
    "        self.face_counts_df = pd.DataFrame()\n",
    "        # append rolls row by row\n",
    "        for x in self.game.row_names:\n",
    "            self.face_counts_df = pd.concat([self.face_counts_df, self.game._play_df.T[x].value_counts()], axis=1)\n",
    "        # fill all nan values with 0 and make all values ints\n",
    "        self.face_counts_df = self.face_counts_df.fillna(0)\n",
    "        self.face_counts_df = self.face_counts_df.astype(int)\n",
    "        # transpose to make columns = faces, rows = roll #\n",
    "        self.face_counts_df = self.face_counts_df.T"
   ]
  },
  {
   "cell_type": "markdown",
   "metadata": {},
   "source": [
    "# Test Module"
   ]
  },
  {
   "cell_type": "code",
   "execution_count": 2,
   "metadata": {},
   "outputs": [],
   "source": [
    "from MonteCarlo.montecarlo import Die, Game, Analyzer\n",
    "import unittest\n",
    "import numpy as np\n",
    "import pandas as pd"
   ]
  },
  {
   "cell_type": "code",
   "execution_count": 28,
   "metadata": {},
   "outputs": [],
   "source": [
    "class MonteCarloTestSuite(unittest.TestCase):    \n",
    "    \n",
    "    # DIE class tests\n",
    "\n",
    "    def test_die_init(self):\n",
    "        # create Die instance\n",
    "        six_faces = np.array([1,2,3,4,5,6])\n",
    "        d1 = Die(six_faces)\n",
    "        \n",
    "        # test\n",
    "        actual_dim = d1.die_df.shape\n",
    "        expected = (6,2)\n",
    "        \n",
    "        message = \"The size of the dataframe constructed from initial faces and weights is not equal to the expected dimensions.\"\n",
    "        \n",
    "        # assertEqual() to check that faces and weights correctly initialized\n",
    "        self.assertEqual(actual_dim, expected, message)\n",
    "    \n",
    "    def test_change_weight(self):\n",
    "        # create Die instance\n",
    "        six_faces = np.array([1,2,3,4,5,6])\n",
    "        d1 = Die(six_faces)\n",
    "        # change the weight of a face\n",
    "        d1.change_weight(1,10)\n",
    "        \n",
    "        # test\n",
    "        actual_weight = d1.weights[0]\n",
    "        expected = 10\n",
    "            \n",
    "        message = \"The weight was not correctly reassigned.\"\n",
    "        \n",
    "        # assertEqual() to check weight is equal to expected\n",
    "        self.assertEqual(actual_weight, expected, message)\n",
    "    \n",
    "    def test_roll(self):\n",
    "        # create Die instance\n",
    "        six_faces = np.array([1,2,3,4,5,6])\n",
    "        d1 = Die(six_faces)\n",
    "        # roll die\n",
    "        roll = d1.roll(20)\n",
    "        \n",
    "        # test\n",
    "        actual_length = len(roll)\n",
    "        expected = 20\n",
    "        \n",
    "        message = \"The number of rolls requested was not executed.\"\n",
    "        \n",
    "        # assertEqual() to check length of roll list is correct\n",
    "        self.assertEqual(actual_length, expected, message)\n",
    "        \n",
    "    def test_show_current(self):\n",
    "        # create Die instance\n",
    "        six_faces = np.array([1,2,3,4,5,6])\n",
    "        d1 = Die(six_faces)\n",
    "        \n",
    "        # test\n",
    "        if d1.show_current().shape == (6,2):\n",
    "            test_value = True\n",
    "        else:\n",
    "            test_value = True\n",
    "        \n",
    "        message = \"The dataframe returned does not have the expected dimensions.\"\n",
    "        \n",
    "        # assertTrue() to check that dimensions of dataframe equal the expected dimensions\n",
    "        self.assertTrue(test_value, message)\n",
    "        \n",
    "    \n",
    "    #########################################################################################\n",
    "    # GAME class tests\n",
    "    \n",
    "    def test_game_init(self):\n",
    "        # create Game instance\n",
    "        six_faces = np.array([1,2,3,4,5,6])\n",
    "        d1 = Die(six_faces)\n",
    "        die_list = [d1, d1, d1]\n",
    "        game = Game(die_list)\n",
    "        \n",
    "        # test\n",
    "        if len(game.die_list) == 3 and isinstance(game.die_list, list):\n",
    "            test_value = True\n",
    "        else:\n",
    "            test_value = False\n",
    "        \n",
    "        message = \"The Game object was not initialized with a list of the expected length.\"\n",
    "        \n",
    "        # assertTrue() to check that Game object is initialized with a list.\n",
    "        self.assertTrue(test_value, message)\n",
    "    \n",
    "    def test_play(self):\n",
    "        # create Game instance\n",
    "        six_faces = np.array([1,2,3,4,5,6])\n",
    "        d1 = Die(six_faces)\n",
    "        die_list = [d1, d1, d1]\n",
    "        game = Game(die_list)\n",
    "        \n",
    "        game.play(10)\n",
    "        \n",
    "        # test\n",
    "        if game._play_df.shape == (10, 3):\n",
    "            test_value = True\n",
    "        else:\n",
    "            test_value = False\n",
    "        \n",
    "        message = \"The dataframe returned does not have the expected dimensions.\"\n",
    "        \n",
    "        # assertTrue() to check that dimensions of dataframe equal the expected dimensions\n",
    "        self.assertTrue(test_value, message)\n",
    "        \n",
    "    def test_show_play(self):\n",
    "        # create Game instance\n",
    "        six_faces = np.array([1,2,3,4,5,6])\n",
    "        d1 = Die(six_faces)\n",
    "        die_list = [d1, d1, d1]\n",
    "        game = Game(die_list)\n",
    "        \n",
    "        game.play(10)\n",
    "        \n",
    "        # test\n",
    "        actual_dim = game.show_play('narrow').shape\n",
    "        expected = (30, 1)\n",
    "        \n",
    "        message = \"The dataframe returned does not have the expected dimensions.\"\n",
    "        \n",
    "        # assertEqual() to check that dimensions of dataframe equal the expected dimensions\n",
    "        self.assertEqual(actual_dim, expected, message)\n",
    "        \n",
    "        \n",
    "    #########################################################################################\n",
    "    # ANALYZER class tests\n",
    "    \n",
    "    def test_analyzer_init(self):\n",
    "        # create Analyzer instance\n",
    "        six_faces = np.array([1,2,3,4,5,6])\n",
    "        d1 = Die(six_faces)\n",
    "        die_list = [d1, d1, d1]\n",
    "        game = Game(die_list)\n",
    "        \n",
    "        game.play(10)\n",
    "        \n",
    "        analyzer = Analyzer(game)\n",
    "        \n",
    "        # test\n",
    "        if isinstance(analyzer.game, Game):\n",
    "            test_value = True\n",
    "        else:\n",
    "            test_value = False\n",
    "            \n",
    "        message = \"The Analyzer object was not initialized with an already existing Game object.\"\n",
    "        \n",
    "        # assertTrue() to check that Analyzer is initialized with a Game object as the input parameter\n",
    "        self.assertTrue(test_value, message)\n",
    "    \n",
    "    def test_jackpot(self):\n",
    "        # create Analyzer instance\n",
    "        six_faces = np.array([1,2,3,4,5,6])\n",
    "        d1 = Die(six_faces)\n",
    "        die_list = [d1, d1, d1]\n",
    "        game = Game(die_list)\n",
    "        \n",
    "        game.play(10)\n",
    "        \n",
    "        analyzer = Analyzer(game)\n",
    "        jackpot = analyzer.jackpot()\n",
    "        \n",
    "        # test\n",
    "        if isinstance(analyzer.jackpot_df['Jackpot'][0], bool):\n",
    "            test_value = True\n",
    "        else:\n",
    "            test_value = False\n",
    "            \n",
    "        message = \"The column of jackpot results should be of type boolean.\"\n",
    "        \n",
    "        # assertTrue() to check that dataframe contains booleans for jackpot result\n",
    "        self.assertTrue(test_value, message)\n",
    "        \n",
    "    def test_combo(self):\n",
    "        # create Analyzer instance\n",
    "        six_faces = np.array([1,2,3,4,5,6])\n",
    "        d1 = Die(six_faces)\n",
    "        die_list = [d1, d1, d1]\n",
    "        game = Game(die_list)\n",
    "        \n",
    "        game.play(10)\n",
    "        \n",
    "        analyzer = Analyzer(game)\n",
    "        analyzer.combo()\n",
    "        \n",
    "        # test\n",
    "        if isinstance(analyzer.combo_df.index, pd.core.indexes.multi.MultiIndex):\n",
    "            test_value = True\n",
    "        else:\n",
    "            test_value = False\n",
    "            \n",
    "        message = \"The dataframe does not appear to have multiple indices.\"\n",
    "        \n",
    "        # assertTrue() to check that dataframe actually does have multiple indices\n",
    "        self.assertTrue(test_value, message)\n",
    "        \n",
    "    def test_face_counts_per_roll(self):\n",
    "        # create Analyzer instance\n",
    "        six_faces = np.array([1,2,3,4,5,6])\n",
    "        d1 = Die(six_faces)\n",
    "        die_list = [d1, d1, d1]\n",
    "        game = Game(die_list)\n",
    "        \n",
    "        game.play(10)\n",
    "        \n",
    "        analyzer = Analyzer(game)\n",
    "        analyzer.face_counts_per_roll()\n",
    "        \n",
    "        # test\n",
    "        if analyzer.face_counts_df.shape == (10, 6):\n",
    "            test_value = True\n",
    "        else:\n",
    "            test_value = False\n",
    "            \n",
    "        message = \"The dataframe of face counts per roll does not have the correct dimensions.\"\n",
    "        \n",
    "        # assertTrue() to check that dataframe is the correct size and contains all rolls and faces\n",
    "        self.assertTrue(test_value, message)"
   ]
  },
  {
   "cell_type": "markdown",
   "metadata": {},
   "source": [
    "# Test Results"
   ]
  },
  {
   "cell_type": "raw",
   "metadata": {},
   "source": [
    "python : test_analyzer_init (__main__.MonteCarloTestSuite) ... ok\n",
    "At line:1 char:1\n",
    "+ python montecarlo_tests.py 2> montecarlo_results.txt\n",
    "+ ~~~~~~~~~~~~~~~~~~~~~~~~~~~~~~~~~~~~~~~~~~~~~~~~~~~~\n",
    "    + CategoryInfo          : NotSpecified: (test_analyzer_i...stSuite) ... ok:String) [], RemoteException\n",
    "    + FullyQualifiedErrorId : NativeCommandError\n",
    " \n",
    "test_change_weight (__main__.MonteCarloTestSuite) ... ok\n",
    "test_combo (__main__.MonteCarloTestSuite) ... ok\n",
    "test_die_init (__main__.MonteCarloTestSuite) ... ok\n",
    "test_face_counts_per_roll (__main__.MonteCarloTestSuite) ... ok\n",
    "test_game_init (__main__.MonteCarloTestSuite) ... ok\n",
    "test_jackpot (__main__.MonteCarloTestSuite) ... ok\n",
    "test_play (__main__.MonteCarloTestSuite) ... ok\n",
    "test_roll (__main__.MonteCarloTestSuite) ... ok\n",
    "test_show_current (__main__.MonteCarloTestSuite) ... ok\n",
    "test_show_play (__main__.MonteCarloTestSuite) ... ok\n",
    "\n",
    "----------------------------------------------------------------------\n",
    "Ran 11 tests in 0.024s\n",
    "\n",
    "OK\n"
   ]
  },
  {
   "cell_type": "markdown",
   "metadata": {},
   "source": [
    "# Scenarios\n",
    "\n",
    "Code blocks with your scenarios and their outputs. \n",
    "\n",
    "These should have appropriate import statements even though the code is now in the same notebook as the classes it calls. "
   ]
  },
  {
   "cell_type": "markdown",
   "metadata": {},
   "source": [
    "## Scenario 1"
   ]
  },
  {
   "cell_type": "code",
   "execution_count": 4,
   "metadata": {},
   "outputs": [],
   "source": [
    "import matplotlib.pyplot as plt"
   ]
  },
  {
   "cell_type": "markdown",
   "metadata": {},
   "source": [
    "Create 2 coin objects."
   ]
  },
  {
   "cell_type": "code",
   "execution_count": 5,
   "metadata": {},
   "outputs": [],
   "source": [
    "coin_faces = np.array(['H','T'])\n",
    "coin1 = Die(coin_faces)\n",
    "coin2 = Die(coin_faces)\n",
    "coin2.change_weight('H', 5)"
   ]
  },
  {
   "cell_type": "markdown",
   "metadata": {},
   "source": [
    "Create a coin game with 3 fair coins."
   ]
  },
  {
   "cell_type": "code",
   "execution_count": 6,
   "metadata": {},
   "outputs": [],
   "source": [
    "coin_list = [coin1, coin1, coin1]\n",
    "coin_game = Game(coin_list)\n",
    "coin_game.play(1000)"
   ]
  },
  {
   "cell_type": "markdown",
   "metadata": {},
   "source": [
    "Create analyzer object to determine the frequency of jackpots."
   ]
  },
  {
   "cell_type": "code",
   "execution_count": 7,
   "metadata": {},
   "outputs": [
    {
     "name": "stdout",
     "output_type": "stream",
     "text": [
      "Number of jackpots: 240\n"
     ]
    }
   ],
   "source": [
    "coin_analyzer = Analyzer(coin_game)\n",
    "jackpot1 = coin_analyzer.jackpot()\n",
    "print(f\"Number of jackpots: {jackpot1}\")"
   ]
  },
  {
   "cell_type": "code",
   "execution_count": 8,
   "metadata": {},
   "outputs": [
    {
     "name": "stdout",
     "output_type": "stream",
     "text": [
      "Percentage of rolls that are jackpots: 0.24\n"
     ]
    }
   ],
   "source": [
    "print(f\"Percentage of rolls that are jackpots: {coin_analyzer.jackpot()/len(coin_analyzer.jackpot_df)}\")"
   ]
  },
  {
   "cell_type": "markdown",
   "metadata": {},
   "source": [
    "Create a coin game with 2 unfair coins and 1 fair."
   ]
  },
  {
   "cell_type": "code",
   "execution_count": 9,
   "metadata": {},
   "outputs": [],
   "source": [
    "coin_list1 = [coin1, coin2, coin2]\n",
    "coin_game1 = Game(coin_list1)\n",
    "coin_game1.play(1000)"
   ]
  },
  {
   "cell_type": "markdown",
   "metadata": {},
   "source": [
    "Create analyzer object to determine the frequency of jackpots."
   ]
  },
  {
   "cell_type": "code",
   "execution_count": 10,
   "metadata": {},
   "outputs": [
    {
     "name": "stdout",
     "output_type": "stream",
     "text": [
      "Number of jackpots: 351\n"
     ]
    }
   ],
   "source": [
    "coin_analyzer1 = Analyzer(coin_game1)\n",
    "jackpot2 = coin_analyzer1.jackpot()\n",
    "print(f\"Number of jackpots: {jackpot2}\")"
   ]
  },
  {
   "cell_type": "code",
   "execution_count": 11,
   "metadata": {},
   "outputs": [
    {
     "name": "stdout",
     "output_type": "stream",
     "text": [
      "Percentage of rolls that are jackpots: 0.351\n"
     ]
    }
   ],
   "source": [
    "print(f\"Percentage of rolls that are jackpots: {coin_analyzer1.jackpot()/len(coin_analyzer1.jackpot_df)}\")"
   ]
  },
  {
   "cell_type": "markdown",
   "metadata": {},
   "source": [
    "Two frequencies compares in a simple bar chart."
   ]
  },
  {
   "cell_type": "code",
   "execution_count": 12,
   "metadata": {},
   "outputs": [
    {
     "data": {
      "image/png": "[encoded data removed]",
      "text/plain": [
       "<Figure size 432x288 with 1 Axes>"
      ]
     },
     "metadata": {
      "needs_background": "light"
     },
     "output_type": "display_data"
    }
   ],
   "source": [
    "data = {'3 Fair':jackpot1, '2 Unfair, 1 Fair':jackpot2}\n",
    "coins = list(data.keys())\n",
    "jackpots = list(data.values())\n",
    "plt.bar(coins, jackpots)\n",
    "plt.title(\"No. of Jackpots for Different Games\")\n",
    "plt.ylabel(\"No. of Jackpots\")\n",
    "plt.xlabel(\"Coins Played\")\n",
    "plt.show()"
   ]
  },
  {
   "cell_type": "markdown",
   "metadata": {},
   "source": [
    "## Scenario 2"
   ]
  },
  {
   "cell_type": "markdown",
   "metadata": {},
   "source": [
    "Create 3 different Die objects. One fair and two unfair."
   ]
  },
  {
   "cell_type": "code",
   "execution_count": 13,
   "metadata": {},
   "outputs": [],
   "source": [
    "die_faces = np.array([1,2,3,4,5,6])\n",
    "die1 = Die(die_faces)\n",
    "die2 = Die(die_faces)\n",
    "die2.change_weight(6, 5)\n",
    "die3 = Die(die_faces)\n",
    "die3.change_weight(1, 5)"
   ]
  },
  {
   "cell_type": "markdown",
   "metadata": {},
   "source": [
    "Create a die game with 5 fair dice."
   ]
  },
  {
   "cell_type": "code",
   "execution_count": 14,
   "metadata": {},
   "outputs": [],
   "source": [
    "die_list1 = [die1, die1, die1, die1, die1]\n",
    "die_game1 = Game(die_list1)\n",
    "die_game1.play(1000)"
   ]
  },
  {
   "cell_type": "markdown",
   "metadata": {},
   "source": [
    "Create analyzer object to determine frequency of jackpots."
   ]
  },
  {
   "cell_type": "code",
   "execution_count": 15,
   "metadata": {},
   "outputs": [
    {
     "name": "stdout",
     "output_type": "stream",
     "text": [
      "Number of jackpots: 1\n"
     ]
    }
   ],
   "source": [
    "die_analyzer1 = Analyzer(die_game1)\n",
    "die_jackpot1 = die_analyzer1.jackpot()\n",
    "print(f\"Number of jackpots: {die_jackpot1}\")"
   ]
  },
  {
   "cell_type": "markdown",
   "metadata": {},
   "source": [
    "Create a die game with 2 unfair dice of type 1, 1 unfair die of type 2, and 2 fair dice."
   ]
  },
  {
   "cell_type": "code",
   "execution_count": 16,
   "metadata": {},
   "outputs": [],
   "source": [
    "die_list2 = [die1, die1, die2, die2, die3]\n",
    "die_game2 = Game(die_list2)\n",
    "die_game2.play(1000)"
   ]
  },
  {
   "cell_type": "markdown",
   "metadata": {},
   "source": [
    "Create analyzer object to determine frequency of jackpots."
   ]
  },
  {
   "cell_type": "code",
   "execution_count": 17,
   "metadata": {},
   "outputs": [
    {
     "name": "stdout",
     "output_type": "stream",
     "text": [
      "Number of jackpots: 0\n"
     ]
    }
   ],
   "source": [
    "die_analyzer2 = Analyzer(die_game2)\n",
    "die_jackpot2 = die_analyzer2.jackpot()\n",
    "print(f\"Number of jackpots: {die_jackpot2}\")"
   ]
  },
  {
   "cell_type": "markdown",
   "metadata": {},
   "source": [
    "Compare jackpot results in a bar chart."
   ]
  },
  {
   "cell_type": "code",
   "execution_count": 18,
   "metadata": {},
   "outputs": [
    {
     "data": {
      "image/png": "[encoded data removed]",
      "text/plain": [
       "<Figure size 432x288 with 1 Axes>"
      ]
     },
     "metadata": {
      "needs_background": "light"
     },
     "output_type": "display_data"
    }
   ],
   "source": [
    "data = {'5 Fair':die_jackpot1, '2 Type 1 Unfair, 1 Type 2 Unfair, 2 Fair':die_jackpot2}\n",
    "die = list(data.keys())\n",
    "jackpots = list(data.values())\n",
    "plt.bar(die, jackpots)\n",
    "plt.title(\"No. of Jackpots for Different Games\")\n",
    "plt.ylabel(\"No. of Jackpots\")\n",
    "plt.xlabel(\"Die Played\")\n",
    "plt.show()"
   ]
  },
  {
   "cell_type": "markdown",
   "metadata": {},
   "source": [
    "Plot 10 most frequent combinations of faces for the fair game."
   ]
  },
  {
   "cell_type": "code",
   "execution_count": 19,
   "metadata": {},
   "outputs": [
    {
     "data": {
      "image/png": "[encoded data removed]",
      "text/plain": [
       "<Figure size 432x288 with 1 Axes>"
      ]
     },
     "metadata": {
      "needs_background": "light"
     },
     "output_type": "display_data"
    }
   ],
   "source": [
    "die_analyzer1.combo()\n",
    "data = die_analyzer1.combo_df.sort_values(by=['Counts'], ascending=False).head(10)\n",
    "counts1 = list(data['Counts'])\n",
    "index1 = [str(data.index[i]) for i in range(10)]\n",
    "plt.barh(index1, counts1)\n",
    "plt.xlabel(\"Frequency\")\n",
    "plt.ylabel(\"Roll Combo\")\n",
    "plt.title(\"Roll Combo Frequencies for Fair Dice\")\n",
    "plt.show()"
   ]
  },
  {
   "cell_type": "code",
   "execution_count": 20,
   "metadata": {},
   "outputs": [
    {
     "data": {
      "image/png": "[encoded data removed]",
      "text/plain": [
       "<Figure size 432x288 with 1 Axes>"
      ]
     },
     "metadata": {
      "needs_background": "light"
     },
     "output_type": "display_data"
    }
   ],
   "source": [
    "die_analyzer2.combo()\n",
    "data = die_analyzer2.combo_df.sort_values(by=['Counts'], ascending=False).head(10)\n",
    "counts2 = list(data['Counts'])\n",
    "index2 = [str(data.index[i]) for i in range(10)]\n",
    "plt.barh(index2, counts2)\n",
    "plt.xlabel(\"Frequency\")\n",
    "plt.ylabel(\"Roll Combo\")\n",
    "plt.title(\"Roll Combo Frequencies for Unfair Dice\")\n",
    "plt.show()"
   ]
  },
  {
   "cell_type": "markdown",
   "metadata": {},
   "source": [
    "## Scenario 3"
   ]
  },
  {
   "cell_type": "markdown",
   "metadata": {},
   "source": [
    "Create a Die object with letters as faces."
   ]
  },
  {
   "cell_type": "code",
   "execution_count": 21,
   "metadata": {},
   "outputs": [],
   "source": [
    "alphabet = np.array(['a', 'b', 'c', 'd', 'e', 'f', 'g', 'h', 'i', 'j', 'k', 'l', 'm', 'n', 'o', 'p', 'q', 'r', 's', 't', 'u', 'v', 'w', 'x', 'y', 'z'])\n",
    "letters = Die(alphabet)\n",
    "letters_freq = np.array([8.4966, 2.072, 4.5388, 3.3844, 11.1607, 1.8121, 2.4705, 3.0034, 7.5448, 0.1965, 1.1016, 5.4893, 3.0129, 6.6544, 7.1635, 3.1671, 0.1962, 7.5809, 5.7351, 6.9509, 3.6308, 1.0074, 1.2899, 0.2902, 1.777, 0.2722])\n",
    "\n",
    "for i in range(len(alphabet)):\n",
    "    letters.change_weight(str(alphabet[i]), letters_freq)"
   ]
  },
  {
   "cell_type": "markdown",
   "metadata": {},
   "source": [
    "Play a game with 5 dice and 1000 rolls."
   ]
  },
  {
   "cell_type": "code",
   "execution_count": 22,
   "metadata": {},
   "outputs": [],
   "source": [
    "letters_list = [letters, letters, letters, letters, letters]\n",
    "letters_game = Game(letters_list)\n",
    "letters_game.play(1000)"
   ]
  },
  {
   "cell_type": "markdown",
   "metadata": {},
   "source": [
    "Count how many of the combinations make actual English words."
   ]
  },
  {
   "cell_type": "code",
   "execution_count": 23,
   "metadata": {},
   "outputs": [],
   "source": [
    "pd.set_option('display.max_rows', 1000)\n",
    "#letters_game.show_play()"
   ]
  },
  {
   "cell_type": "markdown",
   "metadata": {},
   "source": [
    "Approximately 14 of the 1000 combinations made up an English-sounding word.\n",
    "\n",
    "On average, it appears that somewhere between 12 to 20 of the 1000 combinations make up an English-sounding word."
   ]
  },
  {
   "cell_type": "markdown",
   "metadata": {},
   "source": [
    "# Directory Listing\n",
    "\n",
    "A code block that executes the following bash command: \n",
    "\n",
    "```bash\n",
    "!ls -lRF -o\n",
    "```"
   ]
  },
  {
   "cell_type": "code",
   "execution_count": 24,
   "metadata": {},
   "outputs": [
    {
     "name": "stdout",
     "output_type": "stream",
     "text": [
      ".:\n",
      "total 236\n",
      "-rw-r--r-- 1 qmn9tb 109692 Jul 15 11:06 FinalProjectSubmission.ipynb\n",
      "-rw-r--r-- 1 qmn9tb   1067 Jul 15 10:53 LICENSE\n",
      "drwxr-sr-x 4 qmn9tb   2048 Jul 15 11:04 MonteCarlo/\n",
      "-rw-r--r-- 1 qmn9tb  72063 Jul 15 10:53 montecarlo_demo.ipynb\n",
      "drwxr-sr-x 2 qmn9tb   2560 Jul 15 10:59 MonteCarloPackage.egg-info/\n",
      "-rw-r--r-- 1 qmn9tb   2008 Jul 15 10:53 montecarlo_results.txt\n",
      "-rw-r--r-- 1 qmn9tb   7139 Jul 15 10:53 montecarlo_tests.py\n",
      "-rw-r--r-- 1 qmn9tb   6290 Jul 15 10:53 README.md\n",
      "-rw-r--r-- 1 qmn9tb    437 Jul 15 10:53 setup.py\n",
      "\n",
      "./MonteCarlo:\n",
      "total 20\n",
      "-rw-r--r-- 1 qmn9tb   67 Jul 15 10:53 __init__.py\n",
      "-rw-r--r-- 1 qmn9tb 6415 Jul 15 10:53 montecarlo.py\n",
      "drwxr-sr-x 2 qmn9tb 1024 Jul 15 11:00 __pycache__/\n",
      "\n",
      "./MonteCarlo/__pycache__:\n",
      "total 16\n",
      "-rw-r--r-- 1 qmn9tb  329 Jul 15 11:00 __init__.cpython-38.pyc\n",
      "-rw-r--r-- 1 qmn9tb 5739 Jul 15 11:00 montecarlo.cpython-38.pyc\n",
      "\n",
      "./MonteCarloPackage.egg-info:\n",
      "total 20\n",
      "-rw-r--r-- 1 qmn9tb   1 Jul 15 10:59 dependency_links.txt\n",
      "-rw-r--r-- 1 qmn9tb 316 Jul 15 10:59 PKG-INFO\n",
      "-rw-r--r-- 1 qmn9tb  29 Jul 15 10:59 requires.txt\n",
      "-rw-r--r-- 1 qmn9tb 270 Jul 15 10:59 SOURCES.txt\n",
      "-rw-r--r-- 1 qmn9tb  11 Jul 15 10:59 top_level.txt\n"
     ]
    }
   ],
   "source": [
    "!ls -lRF -o"
   ]
  },
  {
   "cell_type": "markdown",
   "metadata": {
    "tags": []
   },
   "source": [
    "# Installation Output Listing\n",
    "    \n",
    "A code block that executes the code to install your your package and outputs a successful installation."
   ]
  },
  {
   "cell_type": "code",
   "execution_count": 26,
   "metadata": {},
   "outputs": [
    {
     "name": "stdout",
     "output_type": "stream",
     "text": [
      "Defaulting to user installation because normal site-packages is not writeable\n",
      "Processing /sfs/qumulo/qhome/qmn9tb/Documents/MSDS/DS5100/FinalProject-DS5100\n",
      "Collecting e\n",
      "  Using cached e-1.4.5.tar.gz (1.8 kB)\n",
      "Requirement already satisfied: numpy>=1.12.1 in /sfs/applications/202206/software/standard/compiler/gcc/9.2.0/jupyter_conda/2020.11-py3.8/lib/python3.8/site-packages (from MonteCarloPackage==1.0.0) (1.19.2)\n",
      "Requirement already satisfied: pandas>=0.24.2 in /sfs/applications/202206/software/standard/compiler/gcc/9.2.0/jupyter_conda/2020.11-py3.8/lib/python3.8/site-packages (from MonteCarloPackage==1.0.0) (1.1.3)\n",
      "Requirement already satisfied: pytz>=2017.2 in /sfs/applications/202206/software/standard/compiler/gcc/9.2.0/jupyter_conda/2020.11-py3.8/lib/python3.8/site-packages (from pandas>=0.24.2->MonteCarloPackage==1.0.0) (2020.1)\n",
      "Requirement already satisfied: python-dateutil>=2.7.3 in /sfs/applications/202206/software/standard/compiler/gcc/9.2.0/jupyter_conda/2020.11-py3.8/lib/python3.8/site-packages (from pandas>=0.24.2->MonteCarloPackage==1.0.0) (2.8.1)\n",
      "Requirement already satisfied: six>=1.5 in /sfs/applications/202206/software/standard/compiler/gcc/9.2.0/jupyter_conda/2020.11-py3.8/lib/python3.8/site-packages (from python-dateutil>=2.7.3->pandas>=0.24.2->MonteCarloPackage==1.0.0) (1.15.0)\n",
      "Building wheels for collected packages: e, MonteCarloPackage\n",
      "  Building wheel for e (setup.py) ... \u001b[?25ldone\n",
      "\u001b[?25h  Created wheel for e: filename=e-1.4.5-py3-none-any.whl size=2831 sha256=780b7d893e239c33c7daac00a0ab3b99cdafc1ecb568b584bc7100dc3718cb2c\n",
      "  Stored in directory: /sfs/qumulo/qhome/qmn9tb/.cache/pip/wheels/4e/79/9d/507a7eeaeae1d2ba45b52cb04e004838b5f2126f9c577557ab\n",
      "  Building wheel for MonteCarloPackage (setup.py) ... \u001b[?25ldone\n",
      "\u001b[?25h  Created wheel for MonteCarloPackage: filename=MonteCarloPackage-1.0.0-py3-none-any.whl size=4363 sha256=be6fe08c3c635b12e7c2c435b63805d2dad1b68a37e04c9890747cee58dcb58f\n",
      "  Stored in directory: /sfs/qumulo/qhome/qmn9tb/.cache/pip/wheels/8a/fa/0c/75362c7e9a5755aca5ad4a0d04558dadad7883146ef8aea907\n",
      "Successfully built e MonteCarloPackage\n",
      "Installing collected packages: e, MonteCarloPackage\n",
      "  Attempting uninstall: MonteCarloPackage\n",
      "    Found existing installation: MonteCarloPackage 1.0.0\n",
      "    Uninstalling MonteCarloPackage-1.0.0:\n",
      "      Successfully uninstalled MonteCarloPackage-1.0.0\n",
      "Successfully installed MonteCarloPackage-1.0.0 e-1.4.5\n"
     ]
    }
   ],
   "source": [
    "! pip install e ."
   ]
  }
 ],
 "metadata": {
  "kernelspec": {
   "display_name": "Python 3",
   "language": "python",
   "name": "python3"
  },
  "language_info": {
   "codemirror_mode": {
    "name": "ipython",
    "version": 3
   },
   "file_extension": ".py",
   "mimetype": "text/x-python",
   "name": "python",
   "nbconvert_exporter": "python",
   "pygments_lexer": "ipython3",
   "version": "3.8.8"
  },
  "widgets": {
   "application/vnd.jupyter.widget-state+json": {
    "state": {},
    "version_major": 2,
    "version_minor": 0
   }
  }
 },
 "nbformat": 4,
 "nbformat_minor": 5
}
