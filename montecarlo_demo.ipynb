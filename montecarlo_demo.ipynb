{
 "cells": [
  {
   "cell_type": "code",
   "execution_count": 1,
   "id": "27904ec2-b94a-418d-95fb-34bb0d2c573e",
   "metadata": {},
   "outputs": [],
   "source": [
    "from montecarlo import Die, Game, Analyzer\n",
    "import numpy as np\n",
    "import pandas as pd\n",
    "import matplotlib.pyplot as plt"
   ]
  },
  {
   "cell_type": "markdown",
   "id": "d8770715-386b-4e79-a587-9d384cd0d187",
   "metadata": {},
   "source": [
    "## Scenario 1: A 2-headed coin"
   ]
  },
  {
   "cell_type": "markdown",
   "id": "21505e10-08a5-4d23-a568-7835ee204fc5",
   "metadata": {
    "tags": []
   },
   "source": [
    "\n",
    "Create 2 coin objects."
   ]
  },
  {
   "cell_type": "code",
   "execution_count": 2,
   "id": "2975c64f-4b53-4857-a097-737e79bc7cbc",
   "metadata": {},
   "outputs": [],
   "source": [
    "coin_faces = np.array(['H','T'])\n",
    "coin1 = Die(coin_faces)\n",
    "coin2 = Die(coin_faces)\n",
    "coin2.change_weight('H', 5)"
   ]
  },
  {
   "cell_type": "markdown",
   "id": "a91e8193-b341-47b3-8615-c33b4e26248b",
   "metadata": {},
   "source": [
    "Create a coin game with 3 fair coins."
   ]
  },
  {
   "cell_type": "code",
   "execution_count": 4,
   "id": "82d4326f-de0d-4ddb-a1f6-e0dbe3f66988",
   "metadata": {},
   "outputs": [],
   "source": [
    "coin_list = [coin1, coin1, coin1]\n",
    "coin_game = Game(coin_list)\n",
    "coin_game.play(1000)"
   ]
  },
  {
   "cell_type": "markdown",
   "id": "d5700714-bfdf-4a0f-8047-02f953aa9cc8",
   "metadata": {
    "tags": []
   },
   "source": [
    "Create analyzer object to determine the frequency of jackpots."
   ]
  },
  {
   "cell_type": "code",
   "execution_count": 5,
   "id": "30542a97-f4dd-4b9a-8b0f-d3f58146c2f3",
   "metadata": {},
   "outputs": [
    {
     "name": "stdout",
     "output_type": "stream",
     "text": [
      "Number of jackpots: 278\n"
     ]
    }
   ],
   "source": [
    "coin_analyzer = Analyzer(coin_game)\n",
    "jackpot1 = coin_analyzer.jackpot()\n",
    "print(f\"Number of jackpots: {jackpot1}\")"
   ]
  },
  {
   "cell_type": "code",
   "execution_count": 6,
   "id": "c4f17de1-d8ac-4062-89ad-89aff16b29ab",
   "metadata": {},
   "outputs": [
    {
     "name": "stdout",
     "output_type": "stream",
     "text": [
      "Percentage of rolls that are jackpots: 0.278\n"
     ]
    }
   ],
   "source": [
    "print(f\"Percentage of rolls that are jackpots: {coin_analyzer.jackpot()/len(coin_analyzer.jackpot_df)}\")"
   ]
  },
  {
   "cell_type": "markdown",
   "id": "dcd91fdd-fac1-42ec-8ed2-9701f700497a",
   "metadata": {},
   "source": [
    "Create a coin game with 2 unfair coins and 1 fair."
   ]
  },
  {
   "cell_type": "code",
   "execution_count": 7,
   "id": "aa54bd2a-27d7-49f4-8f61-dbc4086d8974",
   "metadata": {
    "tags": []
   },
   "outputs": [],
   "source": [
    "coin_list1 = [coin1, coin2, coin2]\n",
    "coin_game1 = Game(coin_list1)\n",
    "coin_game1.play(1000)"
   ]
  },
  {
   "cell_type": "markdown",
   "id": "1c7fb150-a3b9-4472-ab15-2638b11e4dfd",
   "metadata": {
    "tags": []
   },
   "source": [
    "Create analyzer object to determine the frequency of jackpots."
   ]
  },
  {
   "cell_type": "code",
   "execution_count": 8,
   "id": "efeb6080-ceb6-4885-993d-c5610d68e418",
   "metadata": {},
   "outputs": [
    {
     "name": "stdout",
     "output_type": "stream",
     "text": [
      "Number of jackpots: 353\n"
     ]
    }
   ],
   "source": [
    "coin_analyzer1 = Analyzer(coin_game1)\n",
    "jackpot2 = coin_analyzer1.jackpot()\n",
    "print(f\"Number of jackpots: {jackpot2}\")"
   ]
  },
  {
   "cell_type": "code",
   "execution_count": 9,
   "id": "58d474e8-0a96-45cb-b39c-6584f2d52944",
   "metadata": {},
   "outputs": [
    {
     "name": "stdout",
     "output_type": "stream",
     "text": [
      "Percentage of rolls that are jackpots: 0.353\n"
     ]
    }
   ],
   "source": [
    "print(f\"Percentage of rolls that are jackpots: {coin_analyzer1.jackpot()/len(coin_analyzer1.jackpot_df)}\")"
   ]
  },
  {
   "cell_type": "markdown",
   "id": "6eed56b9-a37d-4672-8644-97ae0a67499c",
   "metadata": {},
   "source": [
    "Two frequencies compares in a simple bar chart."
   ]
  },
  {
   "cell_type": "code",
   "execution_count": 10,
   "id": "1467b0b2-0fac-41d7-a5c7-fe7e265f1fad",
   "metadata": {},
   "outputs": [
    {
     "data": {
      "image/png": "[encoded data removed]",
      "text/plain": [
       "<Figure size 432x288 with 1 Axes>"
      ]
     },
     "metadata": {
      "needs_background": "light"
     },
     "output_type": "display_data"
    }
   ],
   "source": [
    "data = {'3 Fair':jackpot1, '2 Unfair, 1 Fair':jackpot2}\n",
    "coins = list(data.keys())\n",
    "jackpots = list(data.values())\n",
    "plt.bar(coins, jackpots)\n",
    "plt.title(\"No. of Jackpots for Different Games\")\n",
    "plt.ylabel(\"No. of Jackpots\")\n",
    "plt.xlabel(\"Coins Played\")\n",
    "plt.show()"
   ]
  },
  {
   "cell_type": "markdown",
   "id": "55acbc05-174c-4f04-be86-d740c8b47130",
   "metadata": {},
   "source": [
    "## Scenario 2: A 6-sided die"
   ]
  },
  {
   "cell_type": "markdown",
   "id": "304fb34d-7004-4961-b5ab-f1dbbc2d1ba2",
   "metadata": {},
   "source": [
    "Create 3 different Die objects. One fair and two unfair."
   ]
  },
  {
   "cell_type": "code",
   "execution_count": 11,
   "id": "53eb5778-c17a-4d9c-9414-4e6918245c5f",
   "metadata": {
    "tags": []
   },
   "outputs": [],
   "source": [
    "die_faces = np.array([1,2,3,4,5,6])\n",
    "die1 = Die(die_faces)\n",
    "die2 = Die(die_faces)\n",
    "die2.change_weight(6, 5)\n",
    "die3 = Die(die_faces)\n",
    "die3.change_weight(1, 5)"
   ]
  },
  {
   "cell_type": "markdown",
   "id": "15d842c7-319e-4a2a-8e1c-39e6d9e3cd04",
   "metadata": {},
   "source": [
    "Create a die game with 5 fair dice."
   ]
  },
  {
   "cell_type": "code",
   "execution_count": 23,
   "id": "d73b7f52-566c-48bb-9202-b16f19411bdb",
   "metadata": {},
   "outputs": [],
   "source": [
    "die_list1 = [die1, die1, die1, die1, die1]\n",
    "die_game1 = Game(die_list1)\n",
    "die_game1.play(1000)"
   ]
  },
  {
   "cell_type": "markdown",
   "id": "72fa1090-361f-4c60-905a-f2c558f2949e",
   "metadata": {},
   "source": [
    "Create analyzer object to determine frequency of jackpots."
   ]
  },
  {
   "cell_type": "code",
   "execution_count": 24,
   "id": "65dfe3f3-e3cc-49b1-84c3-c933bb9be7ae",
   "metadata": {},
   "outputs": [
    {
     "name": "stdout",
     "output_type": "stream",
     "text": [
      "Number of jackpots: 0\n"
     ]
    }
   ],
   "source": [
    "die_analyzer1 = Analyzer(die_game1)\n",
    "die_jackpot1 = die_analyzer1.jackpot()\n",
    "print(f\"Number of jackpots: {die_jackpot1}\")"
   ]
  },
  {
   "cell_type": "markdown",
   "id": "aece2947-35e2-46ce-8deb-cbe9450464ab",
   "metadata": {
    "tags": []
   },
   "source": [
    "Create a die game with 2 unfair dice of type 1, 1 unfair die of type 2, and 2 fair dice."
   ]
  },
  {
   "cell_type": "code",
   "execution_count": 16,
   "id": "9970342c-4969-4caa-92b2-706ce9e39fed",
   "metadata": {},
   "outputs": [],
   "source": [
    "die_list2 = [die1, die1, die2, die2, die3]\n",
    "die_game2 = Game(die_list2)\n",
    "die_game2.play(1000)"
   ]
  },
  {
   "cell_type": "markdown",
   "id": "e07dcb23-7691-4c97-9b31-11b07ca551e6",
   "metadata": {},
   "source": [
    "Create analyzer object to determine frequency of jackpots."
   ]
  },
  {
   "cell_type": "code",
   "execution_count": 68,
   "id": "808a35b9-289d-4a8a-a38e-84354ddd30d8",
   "metadata": {},
   "outputs": [
    {
     "name": "stdout",
     "output_type": "stream",
     "text": [
      "Number of jackpots: 1\n"
     ]
    }
   ],
   "source": [
    "die_analyzer2 = Analyzer(die_game2)\n",
    "die_jackpot2 = die_analyzer2.jackpot()\n",
    "print(f\"Number of jackpots: {die_jackpot2}\")"
   ]
  },
  {
   "cell_type": "markdown",
   "id": "a50ece7e-0fc9-451d-ae53-05b0e4487cdf",
   "metadata": {},
   "source": [
    "Compare jackpot results in a bar chart."
   ]
  },
  {
   "cell_type": "code",
   "execution_count": 18,
   "id": "4b94c907-07c3-405a-bcaf-1c6ac3823ce2",
   "metadata": {},
   "outputs": [
    {
     "data": {
      "image/png": "[encoded data removed]",
      "text/plain": [
       "<Figure size 432x288 with 1 Axes>"
      ]
     },
     "metadata": {
      "needs_background": "light"
     },
     "output_type": "display_data"
    }
   ],
   "source": [
    "data = {'5 Fair':die_jackpot1, '2 Type 1 Unfair, 1 Type 2 Unfair, 2 Fair':die_jackpot2}\n",
    "die = list(data.keys())\n",
    "jackpots = list(data.values())\n",
    "plt.bar(die, jackpots)\n",
    "plt.title(\"No. of Jackpots for Different Games\")\n",
    "plt.ylabel(\"No. of Jackpots\")\n",
    "plt.xlabel(\"Die Played\")\n",
    "plt.show()"
   ]
  },
  {
   "cell_type": "markdown",
   "id": "7bae114a-6b16-466b-a3ab-82aeb61962e5",
   "metadata": {},
   "source": [
    "Plot 10 most frequent combinations of faces for the fair game."
   ]
  },
  {
   "cell_type": "code",
   "execution_count": 70,
   "id": "9f3c9d42-fb18-419e-b2ca-64d8f69fc7aa",
   "metadata": {},
   "outputs": [],
   "source": [
    "die_analyzer1.combo()\n",
    "data = die_analyzer1.combo_df.sort_values(by=['Counts'], ascending=False).head(10)\n",
    "counts1 = list(data['Counts'])\n",
    "index1 = [str(data.index[i]) for i in range(10)]"
   ]
  },
  {
   "cell_type": "code",
   "execution_count": 73,
   "id": "1bcc5460-c227-4b8f-acf7-ae42c6c42b38",
   "metadata": {},
   "outputs": [
    {
     "data": {
      "image/png": "[encoded data removed]",
      "text/plain": [
       "<Figure size 432x288 with 1 Axes>"
      ]
     },
     "metadata": {
      "needs_background": "light"
     },
     "output_type": "display_data"
    }
   ],
   "source": [
    "plt.barh(index1, counts1)\n",
    "plt.xlabel(\"Frequency\")\n",
    "plt.ylabel(\"Roll Combo\")\n",
    "plt.title(\"Roll Combo Frequencies for Fair Dice\")\n",
    "plt.show()"
   ]
  },
  {
   "cell_type": "code",
   "execution_count": 71,
   "id": "fd27da3d-e35f-4283-b1cf-a4ad3ee22b3f",
   "metadata": {},
   "outputs": [],
   "source": [
    "die_analyzer2.combo()\n",
    "data = die_analyzer2.combo_df.sort_values(by=['Counts'], ascending=False).head(10)\n",
    "counts2 = list(data['Counts'])\n",
    "index2 = [str(data.index[i]) for i in range(10)]"
   ]
  },
  {
   "cell_type": "code",
   "execution_count": 74,
   "id": "f07a577d-eca9-4ac2-b415-ed42e21bab5e",
   "metadata": {},
   "outputs": [
    {
     "data": {
      "image/png": "[encoded data removed]",
      "text/plain": [
       "<Figure size 432x288 with 1 Axes>"
      ]
     },
     "metadata": {
      "needs_background": "light"
     },
     "output_type": "display_data"
    }
   ],
   "source": [
    "plt.barh(index2, counts2)\n",
    "plt.xlabel(\"Frequency\")\n",
    "plt.ylabel(\"Roll Combo\")\n",
    "plt.title(\"Roll Combo Frequencies for Unfair Dice\")\n",
    "plt.show()"
   ]
  },
  {
   "cell_type": "markdown",
   "id": "206594f3-53ce-4ded-a791-b786b3fa004f",
   "metadata": {},
   "source": [
    "## Scenario 3: Letters of the Roman Alphabet"
   ]
  },
  {
   "cell_type": "markdown",
   "id": "1eb2bbe9-dc40-4930-b118-20f35e703424",
   "metadata": {},
   "source": [
    "Create a Die object with letters as faces."
   ]
  },
  {
   "cell_type": "code",
   "execution_count": 76,
   "id": "49ecbb70-8be2-4cb3-b0a9-01818d0f8dd3",
   "metadata": {},
   "outputs": [],
   "source": [
    "alphabet = np.array(['a', 'b', 'c', 'd', 'e', 'f', 'g', 'h', 'i', 'j', 'k', 'l', 'm', 'n', 'o', 'p', 'q', 'r', 's', 't', 'u', 'v', 'w', 'x', 'y', 'z'])\n",
    "letters = Die(alphabet)\n",
    "letters_freq = pd.read_csv(\"letter-freqs.csv\")"
   ]
  },
  {
   "cell_type": "code",
   "execution_count": 78,
   "id": "b519267e-fb31-4edd-92f8-68b98f80412f",
   "metadata": {},
   "outputs": [],
   "source": [
    "for i in range(len(alphabet)):\n",
    "    letters.change_weight(str(alphabet[i]), float(letters_freq.frequency[i]))"
   ]
  },
  {
   "cell_type": "markdown",
   "id": "283df77f-2b07-46fb-a32a-9838fbbe6b8d",
   "metadata": {},
   "source": [
    "Play a game with 5 dice and 1000 rolls."
   ]
  },
  {
   "cell_type": "code",
   "execution_count": 79,
   "id": "8fd8ff81-f7c5-428e-8f5d-8593a2ca97cb",
   "metadata": {},
   "outputs": [],
   "source": [
    "letters_list = [letters, letters, letters, letters, letters]\n",
    "letters_game = Game(letters_list)\n",
    "letters_game.play(1000)"
   ]
  },
  {
   "cell_type": "markdown",
   "id": "55119ceb-6e7c-4561-bf03-01de5959cc09",
   "metadata": {},
   "source": [
    "Count how many of the combinations make actual English words."
   ]
  },
  {
   "cell_type": "code",
   "execution_count": 81,
   "id": "b4e7672b-0a02-4961-ad83-485d7eb5430d",
   "metadata": {},
   "outputs": [],
   "source": [
    "pd.set_option('display.max_rows', 1000)\n",
    "#letters_game.show_play()"
   ]
  },
  {
   "cell_type": "markdown",
   "id": "b493b37c-b870-45ec-8199-79fb47ff9537",
   "metadata": {},
   "source": [
    "Approximately 14 of the 1000 combinations made up an English-sounding word."
   ]
  },
  {
   "cell_type": "markdown",
   "id": "4a98e055-0145-4bb9-bdd3-5c850bf2b3f6",
   "metadata": {},
   "source": [
    "On average, it appears that somewhere between 12 to 20 of the 1000 combinations make up an English-sounding word."
   ]
  }
 ],
 "metadata": {
  "kernelspec": {
   "display_name": "Python 3 (ipykernel)",
   "language": "python",
   "name": "python3"
  },
  "language_info": {
   "codemirror_mode": {
    "name": "ipython",
    "version": 3
   },
   "file_extension": ".py",
   "mimetype": "text/x-python",
   "name": "python",
   "nbconvert_exporter": "python",
   "pygments_lexer": "ipython3",
   "version": "3.9.12"
  }
 },
 "nbformat": 4,
 "nbformat_minor": 5
}
